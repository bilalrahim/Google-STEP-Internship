{
 "cells": [
  {
   "cell_type": "code",
   "execution_count": null,
   "metadata": {},
   "outputs": [],
   "source": [
    "\"\"\"\n",
    "Solved using a dictionary.\n",
    "\"\"\"\n"
   ]
  },
  {
   "cell_type": "code",
   "execution_count": 1,
   "metadata": {},
   "outputs": [],
   "source": [
    "def solve():\n",
    "    N=int(input())\n",
    "    mat = []\n",
    "    for i in range(N):\n",
    "        matrix = input().split(\" \")\n",
    "           \n",
    "        mat.append(matrix)\n",
    "\n",
    "    dictx={mat[0][0]:[int(mat[0][1])]}\n",
    "\n",
    "    for i in range (1,len(mat)):\n",
    "        if mat[i][0] in dictx:\n",
    "            dictx[mat[i][0]].append(int(mat[i][1]))\n",
    "        else:\n",
    "            dictx.update({mat[i][0]:[int(mat[i][1])]})\n",
    "    return dictx    "
   ]
  },
  {
   "cell_type": "code",
   "execution_count": 3,
   "metadata": {},
   "outputs": [
    {
     "name": "stdout",
     "output_type": "stream",
     "text": [
      "2\n",
      "3\n",
      "apple 100\n",
      "banana 300\n",
      "banana 500\n",
      "Case #1\n",
      "apple   100   100   100.0\n",
      "banana   300   500   400.0\n",
      "3\n",
      "orange 500\n",
      "strawberry 800\n",
      "strawberry 900\n",
      "Case #2\n",
      "orange   500   500   500.0\n",
      "strawberry   800   900   850.0\n"
     ]
    }
   ],
   "source": [
    "T=int(input())\n",
    "for X in range(T):\n",
    "    dictx=solve()\n",
    "    print(\"Case #{}\".format(X+1))\n",
    "    for i in dictx:\n",
    "        print (i,\" \",min(dictx[i]),\" \",max(dictx[i]),\" \",(sum(dictx[i])/len(dictx[i])))"
   ]
  }
 ],
 "metadata": {
  "kernelspec": {
   "display_name": "Python 3",
   "language": "python",
   "name": "python3"
  },
  "language_info": {
   "codemirror_mode": {
    "name": "ipython",
    "version": 3
   },
   "file_extension": ".py",
   "mimetype": "text/x-python",
   "name": "python",
   "nbconvert_exporter": "python",
   "pygments_lexer": "ipython3",
   "version": "3.7.3"
  }
 },
 "nbformat": 4,
 "nbformat_minor": 2
}
